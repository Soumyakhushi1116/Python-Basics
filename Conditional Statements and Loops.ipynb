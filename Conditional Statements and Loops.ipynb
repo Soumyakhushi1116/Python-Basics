{
 "cells": [
  {
   "cell_type": "code",
   "execution_count": 1,
   "id": "4008e6fa",
   "metadata": {},
   "outputs": [
    {
     "name": "stdout",
     "output_type": "stream",
     "text": [
      "500\n",
      "300\n",
      "a is greater than b\n"
     ]
    }
   ],
   "source": [
    "a = 500   # Conditional statements  \n",
    "b = 300\n",
    "if a>b:\n",
    "    print (a)\n",
    "    print (b)\n",
    "    print(\"a is greater than b\")"
   ]
  },
  {
   "cell_type": "code",
   "execution_count": 2,
   "id": "22d46ad1",
   "metadata": {},
   "outputs": [
    {
     "name": "stdout",
     "output_type": "stream",
     "text": [
      "500\n",
      "300\n",
      "a is greater than b\n",
      "c is greater than b \n"
     ]
    }
   ],
   "source": [
    "a = 500   # Multiple Conditional statements  \n",
    "b = 300\n",
    "c = 400\n",
    "if a>b:\n",
    "    print (a)\n",
    "    print (b)\n",
    "    print(\"a is greater than b\")\n",
    "if c>b:\n",
    "    print(\"c is greater than b \")"
   ]
  },
  {
   "cell_type": "code",
   "execution_count": 3,
   "id": "3593179b",
   "metadata": {},
   "outputs": [
    {
     "name": "stdout",
     "output_type": "stream",
     "text": [
      "500\n",
      "300\n",
      "a is greater than b\n"
     ]
    }
   ],
   "source": [
    "a = 500   # Conditional statements  \n",
    "b = 300\n",
    "c = 400\n",
    "if a>b:\n",
    "    print (a)\n",
    "    print (b)\n",
    "    print(\"a is greater than b\")\n",
    "elif c>b:  # elif is used if we want to check only one condition..if condition 1 is true then it will check for condition 2.\n",
    "    print(\"c is greater than b \")"
   ]
  },
  {
   "cell_type": "code",
   "execution_count": 5,
   "id": "54efc732",
   "metadata": {},
   "outputs": [
    {
     "name": "stdout",
     "output_type": "stream",
     "text": [
      "a is greater\n"
     ]
    }
   ],
   "source": [
    "a = 500\n",
    "b = 300\n",
    "if a>b:\n",
    "    print (\"a is greater\")\n",
    "elif b>a:\n",
    "    print (\"b is greater\")\n",
    "elif a==b:\n",
    "    print (\"a equals b\")"
   ]
  },
  {
   "cell_type": "code",
   "execution_count": 6,
   "id": "73731454",
   "metadata": {},
   "outputs": [
    {
     "name": "stdout",
     "output_type": "stream",
     "text": [
      "a equals b\n"
     ]
    }
   ],
   "source": [
    "a = 500\n",
    "b = 500\n",
    "if a>b:\n",
    "    print (\"a is greater\")\n",
    "elif b>a:\n",
    "    print (\"b is greater\")\n",
    "elif a==b:\n",
    "    print (\"a equals b\")"
   ]
  },
  {
   "cell_type": "code",
   "execution_count": 7,
   "id": "af6edb1b",
   "metadata": {},
   "outputs": [],
   "source": [
    "# For = Fixed no of times\n",
    "# While = Based on condition, as long as condition is true, it executes"
   ]
  },
  {
   "cell_type": "code",
   "execution_count": 8,
   "id": "bcd4b89e",
   "metadata": {},
   "outputs": [
    {
     "name": "stdout",
     "output_type": "stream",
     "text": [
      "enter 1st number20\n",
      "enter 2nd number30\n",
      "2030\n"
     ]
    }
   ],
   "source": [
    "no1 = input ('enter 1st number')\n",
    "no2 = input ('enter 2nd number')\n",
    "total = no1 + no2\n",
    "print (total)"
   ]
  },
  {
   "cell_type": "code",
   "execution_count": 9,
   "id": "c036efa0",
   "metadata": {},
   "outputs": [
    {
     "name": "stdout",
     "output_type": "stream",
     "text": [
      "enter 1st number20\n",
      "enter 2nd number50\n",
      "70\n"
     ]
    }
   ],
   "source": [
    "no1 = input ('enter 1st number')\n",
    "no2 = input ('enter 2nd number')\n",
    "total = int(no1) + int(no2)\n",
    "print (total)"
   ]
  },
  {
   "cell_type": "code",
   "execution_count": 10,
   "id": "a138dc4f",
   "metadata": {},
   "outputs": [
    {
     "name": "stdout",
     "output_type": "stream",
     "text": [
      "0\n",
      "1\n",
      "2\n",
      "3\n",
      "4\n"
     ]
    }
   ],
   "source": [
    "total = 0\n",
    "for i in range (5):\n",
    "  print (i)"
   ]
  },
  {
   "cell_type": "code",
   "execution_count": 11,
   "id": "72ed93da",
   "metadata": {},
   "outputs": [
    {
     "name": "stdout",
     "output_type": "stream",
     "text": [
      "enter the no30\n",
      "30\n",
      "enter the no40\n",
      "70\n",
      "enter the no20\n",
      "90\n",
      "enter the no20\n",
      "110\n"
     ]
    }
   ],
   "source": [
    "total = 0\n",
    "while total < 100:\n",
    "    no = int(input('enter the no'))\n",
    "    total = total+no\n",
    "    print(total)"
   ]
  },
  {
   "cell_type": "code",
   "execution_count": 12,
   "id": "ad7b9681",
   "metadata": {},
   "outputs": [
    {
     "name": "stdout",
     "output_type": "stream",
     "text": [
      "0\n",
      "1\n",
      "2\n",
      "3\n",
      "4\n",
      "5\n",
      "6\n",
      "7\n",
      "8\n",
      "9\n"
     ]
    }
   ],
   "source": [
    "for i in range (10):\n",
    "    print (i)"
   ]
  },
  {
   "cell_type": "code",
   "execution_count": 13,
   "id": "33c562ba",
   "metadata": {},
   "outputs": [
    {
     "name": "stdout",
     "output_type": "stream",
     "text": [
      "\n",
      "1\n",
      "22\n",
      "333\n",
      "4444\n",
      "55555\n",
      "666666\n",
      "7777777\n",
      "88888888\n",
      "999999999\n"
     ]
    }
   ],
   "source": [
    "for i in range (10):\n",
    "    print(str(i)*i)"
   ]
  },
  {
   "cell_type": "code",
   "execution_count": null,
   "id": "6d454338",
   "metadata": {},
   "outputs": [],
   "source": []
  }
 ],
 "metadata": {
  "kernelspec": {
   "display_name": "Python 3 (ipykernel)",
   "language": "python",
   "name": "python3"
  },
  "language_info": {
   "codemirror_mode": {
    "name": "ipython",
    "version": 3
   },
   "file_extension": ".py",
   "mimetype": "text/x-python",
   "name": "python",
   "nbconvert_exporter": "python",
   "pygments_lexer": "ipython3",
   "version": "3.11.3"
  }
 },
 "nbformat": 4,
 "nbformat_minor": 5
}
