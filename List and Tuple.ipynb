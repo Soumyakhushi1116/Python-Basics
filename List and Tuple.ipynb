{
 "cells": [
  {
   "cell_type": "markdown",
   "id": "fb3597cd",
   "metadata": {},
   "source": [
    "# List = []\n",
    "# Tuple = ()\n",
    "# Set = {}\n",
    "# Dictionary = {'key':'value'}"
   ]
  },
  {
   "cell_type": "code",
   "execution_count": 3,
   "id": "a401b7fa",
   "metadata": {},
   "outputs": [
    {
     "data": {
      "text/plain": [
       "[20, 10, 30, True, 'sun', [2, 4, 50, 3], 35, (20, 40, 3.5, 30)]"
      ]
     },
     "execution_count": 3,
     "metadata": {},
     "output_type": "execute_result"
    }
   ],
   "source": [
    "l1 = [20, 10, 30, True, 'sun', [2, 4, 50, 3], 35, (20, 40, 3.5, 30)]\n",
    "l1"
   ]
  },
  {
   "cell_type": "code",
   "execution_count": 14,
   "id": "62ddb40f",
   "metadata": {},
   "outputs": [
    {
     "name": "stdout",
     "output_type": "stream",
     "text": [
      "[]\n"
     ]
    }
   ],
   "source": [
    "list1 = [20,30,40,50,60,70,80]\n",
    "print (list1 [-1 : -3])"
   ]
  },
  {
   "cell_type": "code",
   "execution_count": 9,
   "id": "5dbc453c",
   "metadata": {},
   "outputs": [],
   "source": [
    "l1 = [100,200,'sat']"
   ]
  },
  {
   "cell_type": "code",
   "execution_count": 8,
   "id": "cb5b196f",
   "metadata": {},
   "outputs": [
    {
     "data": {
      "text/plain": [
       "[20,\n",
       " 10,\n",
       " 30,\n",
       " True,\n",
       " 'sun',\n",
       " [2, 4, 50, 3],\n",
       " 35,\n",
       " (20, 40, 3.5, 30),\n",
       " 20,\n",
       " 10,\n",
       " 30,\n",
       " True,\n",
       " 'sun',\n",
       " [2, 4, 50, 3],\n",
       " 35,\n",
       " (20, 40, 3.5, 30)]"
      ]
     },
     "execution_count": 8,
     "metadata": {},
     "output_type": "execute_result"
    }
   ],
   "source": [
    "l1*2"
   ]
  },
  {
   "cell_type": "code",
   "execution_count": 10,
   "id": "517cf002",
   "metadata": {},
   "outputs": [
    {
     "data": {
      "text/plain": [
       "[20, 30, 40, 50, 60, 70, 80]"
      ]
     },
     "execution_count": 10,
     "metadata": {},
     "output_type": "execute_result"
    }
   ],
   "source": [
    "list1 = [20,30,40,50,60,70,80]\n",
    "list1"
   ]
  },
  {
   "cell_type": "code",
   "execution_count": 11,
   "id": "f74d88ca",
   "metadata": {},
   "outputs": [
    {
     "name": "stdout",
     "output_type": "stream",
     "text": [
      "[20, 30, 40, 50, 60, 70, 80, 200]\n"
     ]
    }
   ],
   "source": [
    "list1.append (200)           #to add any value at the end in the list, we use variable name.append\n",
    "print (list1)                # we cannot add 2 values simultaneously "
   ]
  },
  {
   "cell_type": "code",
   "execution_count": 12,
   "id": "4011afdf",
   "metadata": {},
   "outputs": [
    {
     "data": {
      "text/plain": [
       "[20, 30, 40, 50, 'sat', 80]"
      ]
     },
     "execution_count": 12,
     "metadata": {},
     "output_type": "execute_result"
    }
   ],
   "source": [
    "list2 = [20,30,40,50,'sat',80]\n",
    "list2"
   ]
  },
  {
   "cell_type": "code",
   "execution_count": 13,
   "id": "550841ef",
   "metadata": {},
   "outputs": [
    {
     "data": {
      "text/plain": [
       "[20, 30, 40, 50, 'sat', 80, 20, 30, 40, 50, 'sat', 80]"
      ]
     },
     "execution_count": 13,
     "metadata": {},
     "output_type": "execute_result"
    }
   ],
   "source": [
    "list2*2                      # to print list 2 times "
   ]
  },
  {
   "cell_type": "code",
   "execution_count": 15,
   "id": "35822598",
   "metadata": {},
   "outputs": [
    {
     "name": "stdout",
     "output_type": "stream",
     "text": [
      "20\n"
     ]
    }
   ],
   "source": [
    "list2 = [20,30,40,50,'sat',80]    # to print any element of list then write its index no.\n",
    "print (list2[0])"
   ]
  },
  {
   "cell_type": "code",
   "execution_count": 17,
   "id": "7a93d2a5",
   "metadata": {},
   "outputs": [
    {
     "name": "stdout",
     "output_type": "stream",
     "text": [
      "[40]\n"
     ]
    }
   ],
   "source": [
    "print (list2[-4: -3])"
   ]
  },
  {
   "cell_type": "code",
   "execution_count": 18,
   "id": "fc33094e",
   "metadata": {},
   "outputs": [
    {
     "name": "stdout",
     "output_type": "stream",
     "text": [
      "[20, 30, 40, 50, 'sat', 80, [20, 30, 40]]\n"
     ]
    }
   ],
   "source": [
    "list2.append ([20,30,40]) #adding list in list\n",
    "print (list2)"
   ]
  },
  {
   "cell_type": "code",
   "execution_count": 19,
   "id": "7bfa7a43",
   "metadata": {},
   "outputs": [
    {
     "data": {
      "text/plain": [
       "[20, 30, 40, 400, 50, 'sat', 80, [20, 30, 40]]"
      ]
     },
     "execution_count": 19,
     "metadata": {},
     "output_type": "execute_result"
    }
   ],
   "source": [
    "list2.insert(3,400) # to add any element inside the list. syntax = insert(index no,the no)\n",
    "list2"
   ]
  },
  {
   "cell_type": "code",
   "execution_count": 20,
   "id": "8ea792bc",
   "metadata": {},
   "outputs": [
    {
     "name": "stdout",
     "output_type": "stream",
     "text": [
      "[20, 30, 40, 400, 50, 'sat', 80, [20, 30, 40], 500, 450, 55]\n"
     ]
    }
   ],
   "source": [
    "list2.extend([500,450,55])     # to add multiple values in the list, use .extend \n",
    "print (list2)"
   ]
  },
  {
   "cell_type": "code",
   "execution_count": 21,
   "id": "2ede5f3e",
   "metadata": {},
   "outputs": [
    {
     "ename": "SyntaxError",
     "evalue": "unterminated string literal (detected at line 7) (1417380929.py, line 7)",
     "output_type": "error",
     "traceback": [
      "\u001b[1;36m  Cell \u001b[1;32mIn[21], line 7\u001b[1;36m\u001b[0m\n\u001b[1;33m    ''''\u001b[0m\n\u001b[1;37m       ^\u001b[0m\n\u001b[1;31mSyntaxError\u001b[0m\u001b[1;31m:\u001b[0m unterminated string literal (detected at line 7)\n"
     ]
    }
   ],
   "source": [
    "# To delete the values, we use\n",
    "''''\n",
    "Del\n",
    "Remove\n",
    "pop\n",
    "\n",
    "''''"
   ]
  },
  {
   "cell_type": "code",
   "execution_count": 23,
   "id": "91d8cd4f",
   "metadata": {},
   "outputs": [
    {
     "ename": "NameError",
     "evalue": "name 'list3' is not defined",
     "output_type": "error",
     "traceback": [
      "\u001b[1;31m---------------------------------------------------------------------------\u001b[0m",
      "\u001b[1;31mNameError\u001b[0m                                 Traceback (most recent call last)",
      "Cell \u001b[1;32mIn[23], line 3\u001b[0m\n\u001b[0;32m      1\u001b[0m list3 \u001b[38;5;241m=\u001b[39m[\u001b[38;5;241m20\u001b[39m, \u001b[38;5;241m30\u001b[39m, \u001b[38;5;241m48\u001b[39m, \u001b[38;5;241m40\u001b[39m, \u001b[38;5;241m400\u001b[39m, \u001b[38;5;241m50\u001b[39m, \u001b[38;5;124m'\u001b[39m\u001b[38;5;124msat\u001b[39m\u001b[38;5;124m'\u001b[39m, \u001b[38;5;241m80\u001b[39m, [\u001b[38;5;241m20\u001b[39m, \u001b[38;5;241m30\u001b[39m, \u001b[38;5;241m40\u001b[39m], \u001b[38;5;241m500\u001b[39m, \u001b[38;5;241m450\u001b[39m, \u001b[38;5;241m55\u001b[39m]\n\u001b[0;32m      2\u001b[0m \u001b[38;5;28;01mdel\u001b[39;00m (list3)\n\u001b[1;32m----> 3\u001b[0m \u001b[38;5;28mprint\u001b[39m(list3)\n",
      "\u001b[1;31mNameError\u001b[0m: name 'list3' is not defined"
     ]
    }
   ],
   "source": [
    "list3 =[20, 30, 48, 40, 400, 50, 'sat', 80, [20, 30, 40], 500, 450, 55]\n",
    "del (list3)\n",
    "print(list3)"
   ]
  },
  {
   "cell_type": "code",
   "execution_count": 24,
   "id": "852d320b",
   "metadata": {},
   "outputs": [
    {
     "name": "stdout",
     "output_type": "stream",
     "text": [
      "[20, 60]\n"
     ]
    }
   ],
   "source": [
    "L1 = [20,30,40,50,60]\n",
    "del(L1[1:4])              #1 and 4 are the index no of elements to be deleted\n",
    "print(L1)"
   ]
  },
  {
   "cell_type": "code",
   "execution_count": 25,
   "id": "782d44ac",
   "metadata": {},
   "outputs": [
    {
     "name": "stdout",
     "output_type": "stream",
     "text": [
      "[20, 40, 50, 60]\n"
     ]
    }
   ],
   "source": [
    "L1 = [20,30,40,50,60]\n",
    "L1.remove(30)\n",
    "print(L1)"
   ]
  },
  {
   "cell_type": "code",
   "execution_count": 27,
   "id": "0e3caf93",
   "metadata": {},
   "outputs": [
    {
     "name": "stdout",
     "output_type": "stream",
     "text": [
      "[20, 30, 50, 60]\n"
     ]
    }
   ],
   "source": [
    "L1 = [20,30,40,50,60]\n",
    "L1.pop(2)             # We write the index no here.\n",
    "print(L1)"
   ]
  },
  {
   "cell_type": "code",
   "execution_count": 28,
   "id": "d234be43",
   "metadata": {},
   "outputs": [
    {
     "name": "stdout",
     "output_type": "stream",
     "text": [
      "[200]\n",
      "[200, 300]\n",
      "[200, 300, 400]\n",
      "[200, 300, 400, 500]\n"
     ]
    }
   ],
   "source": [
    "List = []\n",
    "for x in [20,30,40,50]:\n",
    "    List.append (x*10)\n",
    "    print (List)"
   ]
  },
  {
   "cell_type": "code",
   "execution_count": 29,
   "id": "4e008508",
   "metadata": {},
   "outputs": [
    {
     "name": "stdout",
     "output_type": "stream",
     "text": [
      "['ram', 'kam', 'sam', 'aam']\n",
      "['aam', 'kam', 'ram', 'sam']\n"
     ]
    }
   ],
   "source": [
    "list1 = ['ram', 'kam', 'sam', 'aam']\n",
    "list2 = sorted (list1)                    # Sorting is done on the basis of ascii values.\n",
    "print (list1)\n",
    "print (list2)"
   ]
  },
  {
   "cell_type": "code",
   "execution_count": 30,
   "id": "bd564067",
   "metadata": {},
   "outputs": [
    {
     "name": "stdout",
     "output_type": "stream",
     "text": [
      "['ram', 'kam', '20', '30', '50', 'sam', 'aam']\n",
      "['20', '30', '50', 'aam', 'kam', 'ram', 'sam']\n"
     ]
    }
   ],
   "source": [
    "list1 = ['ram', 'kam', '20', '30', '50', 'sam', 'aam']\n",
    "list2 = sorted (list1)\n",
    "print (list1)\n",
    "print (list2)"
   ]
  },
  {
   "cell_type": "code",
   "execution_count": 31,
   "id": "c66e3773",
   "metadata": {},
   "outputs": [
    {
     "name": "stdout",
     "output_type": "stream",
     "text": [
      "[20, 45, 200, 5, 48, 90, 10]\n"
     ]
    }
   ],
   "source": [
    "l1 = [20,45,200,5,48,90,10]\n",
    "sorted(l1)                         #sorted in ascending order\n",
    "print(l1)"
   ]
  },
  {
   "cell_type": "code",
   "execution_count": 32,
   "id": "0408a56c",
   "metadata": {},
   "outputs": [],
   "source": [
    "# Sort will modify the list but sorting creates a new list which contains the sorted list."
   ]
  },
  {
   "cell_type": "code",
   "execution_count": 33,
   "id": "df03fe74",
   "metadata": {},
   "outputs": [
    {
     "name": "stdout",
     "output_type": "stream",
     "text": [
      "[200, 90, 48, 45, 20, 10, 5]\n"
     ]
    }
   ],
   "source": [
    "l1 = [20,45,200,5,48,90,10]  #To print the values in descending order\n",
    "l1.sort(reverse=True)             # reverse=false means in ascending order\n",
    "print(l1)"
   ]
  },
  {
   "cell_type": "code",
   "execution_count": 34,
   "id": "6f10dad5",
   "metadata": {},
   "outputs": [
    {
     "name": "stdout",
     "output_type": "stream",
     "text": [
      "['sam', 'ram', 'kam', 'aam', '50', '30', '20']\n"
     ]
    }
   ],
   "source": [
    "list1 = ['ram', 'kam', '20', '30', '50', 'sam', 'aam']\n",
    "list1.sort(reverse=True)\n",
    "print(list1)"
   ]
  },
  {
   "cell_type": "code",
   "execution_count": 35,
   "id": "5eeb893e",
   "metadata": {},
   "outputs": [
    {
     "name": "stdout",
     "output_type": "stream",
     "text": [
      "['20', '30', '50', 'aam', 'kam', 'ram', 'sam']\n"
     ]
    }
   ],
   "source": [
    "print(list1[::-1])"
   ]
  },
  {
   "cell_type": "code",
   "execution_count": 36,
   "id": "d9f37982",
   "metadata": {},
   "outputs": [
    {
     "name": "stdout",
     "output_type": "stream",
     "text": [
      "10\n"
     ]
    }
   ],
   "source": [
    "nums = [20,33,50,65,39,10]       #To print min of no.\n",
    "min_num = min(nums)\n",
    "print(min_num)"
   ]
  },
  {
   "cell_type": "code",
   "execution_count": 37,
   "id": "bea4018f",
   "metadata": {},
   "outputs": [],
   "source": [
    "# Now lets start tuple - we cann't modify tuple.\n",
    "# we have to work only with its index"
   ]
  },
  {
   "cell_type": "code",
   "execution_count": 38,
   "id": "da71feab",
   "metadata": {},
   "outputs": [
    {
     "data": {
      "text/plain": [
       "6"
      ]
     },
     "execution_count": 38,
     "metadata": {},
     "output_type": "execute_result"
    }
   ],
   "source": [
    "tup1 = (2,3,70,5,'ram','kam')\n",
    "len(tup1)"
   ]
  },
  {
   "cell_type": "code",
   "execution_count": 39,
   "id": "44d9ed8d",
   "metadata": {},
   "outputs": [
    {
     "name": "stdout",
     "output_type": "stream",
     "text": [
      "(2, 3, 70, 5, 'ram', 'kam', 2, 3, 70, 5, 'ram', 'kam')\n"
     ]
    }
   ],
   "source": [
    "print(tup1*2)   # Repeating 2 times."
   ]
  },
  {
   "cell_type": "code",
   "execution_count": 41,
   "id": "ee47e528",
   "metadata": {},
   "outputs": [
    {
     "name": "stdout",
     "output_type": "stream",
     "text": [
      "True\n"
     ]
    }
   ],
   "source": [
    "print (2 in tup1)"
   ]
  },
  {
   "cell_type": "code",
   "execution_count": 42,
   "id": "7898e55c",
   "metadata": {},
   "outputs": [
    {
     "name": "stdout",
     "output_type": "stream",
     "text": [
      "False\n"
     ]
    }
   ],
   "source": [
    "print (2 not in tup1)"
   ]
  },
  {
   "cell_type": "code",
   "execution_count": 43,
   "id": "f6b3739e",
   "metadata": {},
   "outputs": [
    {
     "ename": "TypeError",
     "evalue": "'tuple' object doesn't support item deletion",
     "output_type": "error",
     "traceback": [
      "\u001b[1;31m---------------------------------------------------------------------------\u001b[0m",
      "\u001b[1;31mTypeError\u001b[0m                                 Traceback (most recent call last)",
      "Cell \u001b[1;32mIn[43], line 2\u001b[0m\n\u001b[0;32m      1\u001b[0m tup \u001b[38;5;241m=\u001b[39m (\u001b[38;5;241m23\u001b[39m,\u001b[38;5;241m54\u001b[39m,\u001b[38;5;241m80\u001b[39m,\u001b[38;5;241m55\u001b[39m)\n\u001b[1;32m----> 2\u001b[0m \u001b[38;5;28;01mdel\u001b[39;00m(tup[\u001b[38;5;241m0\u001b[39m])\n\u001b[0;32m      3\u001b[0m \u001b[38;5;28mprint\u001b[39m(tup)\n",
      "\u001b[1;31mTypeError\u001b[0m: 'tuple' object doesn't support item deletion"
     ]
    }
   ],
   "source": [
    "tup = (23,54,80,55)       # We cann't modify tuple\n",
    "del(tup[0])\n",
    "print(tup)"
   ]
  },
  {
   "cell_type": "code",
   "execution_count": 44,
   "id": "d676edc7",
   "metadata": {},
   "outputs": [
    {
     "name": "stdout",
     "output_type": "stream",
     "text": [
      "[23, 54, 80, 55]\n"
     ]
    }
   ],
   "source": [
    "tup = (23,54,80,55)\n",
    "list1 = list(tup)\n",
    "print(list1)"
   ]
  },
  {
   "cell_type": "code",
   "execution_count": 45,
   "id": "82ac9ded",
   "metadata": {},
   "outputs": [
    {
     "ename": "NameError",
     "evalue": "name 'list1' is not defined",
     "output_type": "error",
     "traceback": [
      "\u001b[1;31m---------------------------------------------------------------------------\u001b[0m",
      "\u001b[1;31mNameError\u001b[0m                                 Traceback (most recent call last)",
      "Cell \u001b[1;32mIn[45], line 2\u001b[0m\n\u001b[0;32m      1\u001b[0m \u001b[38;5;28;01mdel\u001b[39;00m(list1)\n\u001b[1;32m----> 2\u001b[0m \u001b[38;5;28mprint\u001b[39m(list1)\n",
      "\u001b[1;31mNameError\u001b[0m: name 'list1' is not defined"
     ]
    }
   ],
   "source": [
    "del(list1)\n",
    "print(list1)"
   ]
  },
  {
   "cell_type": "code",
   "execution_count": 46,
   "id": "634f6cf8",
   "metadata": {},
   "outputs": [
    {
     "name": "stdout",
     "output_type": "stream",
     "text": [
      "54\n"
     ]
    }
   ],
   "source": [
    "tup = (23,54,80,55)\n",
    "list1 = list(tup)\n",
    "print(list1[1])"
   ]
  },
  {
   "cell_type": "code",
   "execution_count": 47,
   "id": "6fa9a289",
   "metadata": {},
   "outputs": [
    {
     "name": "stdout",
     "output_type": "stream",
     "text": [
      "[23, 80, 55]\n"
     ]
    }
   ],
   "source": [
    "tup = (23,54,80,55)\n",
    "list1 = list(tup)\n",
    "del(list1[1])\n",
    "print(list1)"
   ]
  },
  {
   "cell_type": "code",
   "execution_count": 48,
   "id": "d15ff4c3",
   "metadata": {},
   "outputs": [],
   "source": [
    "# Sort doesn't work in tuple but sorted do work."
   ]
  },
  {
   "cell_type": "code",
   "execution_count": 49,
   "id": "f0729369",
   "metadata": {},
   "outputs": [
    {
     "name": "stderr",
     "output_type": "stream",
     "text": [
      "<>:4: SyntaxWarning: 'str' object is not callable; perhaps you missed a comma?\n",
      "<>:4: SyntaxWarning: 'str' object is not callable; perhaps you missed a comma?\n",
      "C:\\Users\\soumy\\AppData\\Local\\Temp\\ipykernel_15832\\4189598171.py:4: SyntaxWarning: 'str' object is not callable; perhaps you missed a comma?\n",
      "  print('welcome to %s %s and fee is %f'(a,b,fee))\n"
     ]
    },
    {
     "ename": "TypeError",
     "evalue": "'str' object is not callable",
     "output_type": "error",
     "traceback": [
      "\u001b[1;31m---------------------------------------------------------------------------\u001b[0m",
      "\u001b[1;31mTypeError\u001b[0m                                 Traceback (most recent call last)",
      "Cell \u001b[1;32mIn[49], line 4\u001b[0m\n\u001b[0;32m      2\u001b[0m b \u001b[38;5;241m=\u001b[39m \u001b[38;5;124m'\u001b[39m\u001b[38;5;124mtraining\u001b[39m\u001b[38;5;124m'\u001b[39m\n\u001b[0;32m      3\u001b[0m fee \u001b[38;5;241m=\u001b[39m \u001b[38;5;241m500\u001b[39m\n\u001b[1;32m----> 4\u001b[0m \u001b[38;5;28mprint\u001b[39m(\u001b[38;5;124m'\u001b[39m\u001b[38;5;124mwelcome to \u001b[39m\u001b[38;5;132;01m%s\u001b[39;00m\u001b[38;5;124m \u001b[39m\u001b[38;5;132;01m%s\u001b[39;00m\u001b[38;5;124m and fee is \u001b[39m\u001b[38;5;132;01m%f\u001b[39;00m\u001b[38;5;124m'\u001b[39m(a,b,fee))\n",
      "\u001b[1;31mTypeError\u001b[0m: 'str' object is not callable"
     ]
    }
   ],
   "source": [
    "a = 'python'\n",
    "b = 'training'\n",
    "fee = 500\n",
    "print('welcome to %s %s and fee is %f'(a,b,fee))"
   ]
  },
  {
   "cell_type": "code",
   "execution_count": null,
   "id": "f44d478a",
   "metadata": {},
   "outputs": [],
   "source": []
  }
 ],
 "metadata": {
  "kernelspec": {
   "display_name": "Python 3 (ipykernel)",
   "language": "python",
   "name": "python3"
  },
  "language_info": {
   "codemirror_mode": {
    "name": "ipython",
    "version": 3
   },
   "file_extension": ".py",
   "mimetype": "text/x-python",
   "name": "python",
   "nbconvert_exporter": "python",
   "pygments_lexer": "ipython3",
   "version": "3.11.3"
  }
 },
 "nbformat": 4,
 "nbformat_minor": 5
}
