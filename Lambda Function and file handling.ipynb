{
 "cells": [
  {
   "cell_type": "markdown",
   "id": "05be173d",
   "metadata": {},
   "source": [
    "# LAMDA FUNCTION"
   ]
  },
  {
   "cell_type": "code",
   "execution_count": 1,
   "id": "006fe8be",
   "metadata": {},
   "outputs": [],
   "source": [
    "#Function which takes one or more fuction as arguments"
   ]
  },
  {
   "cell_type": "code",
   "execution_count": 2,
   "id": "6c0d0b4c",
   "metadata": {},
   "outputs": [],
   "source": [
    "# LAMBDA FUNCTION WITH FILTER()"
   ]
  },
  {
   "cell_type": "code",
   "execution_count": 3,
   "id": "1de8cb28",
   "metadata": {},
   "outputs": [
    {
     "name": "stdout",
     "output_type": "stream",
     "text": [
      "[45, 46, 70]\n"
     ]
    }
   ],
   "source": [
    "num = [45,27,35,40,46,70]\n",
    "greater=list(filter(lambda num: num>40,num)) # filtering list of numbers greater than 40\n",
    "print(greater)"
   ]
  },
  {
   "cell_type": "code",
   "execution_count": 4,
   "id": "c11f4ec0",
   "metadata": {},
   "outputs": [
    {
     "name": "stdout",
     "output_type": "stream",
     "text": [
      "['level', 'noon', 'aa']\n"
     ]
    }
   ],
   "source": [
    "# Python program to find palindromes in a list of strings.\n",
    "my_list = [\"level\",\"class\",\"noon\",\"moon\",\"aa\",\"abab\"]\n",
    "result = list(filter(lambda x:(x==\"\".join(reversed(x))),my_list))\n",
    "print(result)"
   ]
  },
  {
   "cell_type": "code",
   "execution_count": 7,
   "id": "1aff548e",
   "metadata": {},
   "outputs": [
    {
     "name": "stdout",
     "output_type": "stream",
     "text": [
      "['tea', 'ate']\n"
     ]
    }
   ],
   "source": [
    "# Python Program to find all anagrams of str in a list of strings\n",
    "from collections import Counter\n",
    "my_list = [\"tea\",\"coffee\",\"cake\",\"ate\",\"tee\"]\n",
    "str = \"eat\"\n",
    "result = list(filter(lambda x:(Counter(str)==Counter(x)),my_list))\n",
    "print(result)"
   ]
  },
  {
   "cell_type": "markdown",
   "id": "81af7557",
   "metadata": {},
   "source": [
    "# LAMBDA FUNCTION IN PYTHON WITH MAP()"
   ]
  },
  {
   "cell_type": "code",
   "execution_count": 8,
   "id": "f316ecb6",
   "metadata": {},
   "outputs": [
    {
     "name": "stdout",
     "output_type": "stream",
     "text": [
      "[2, 4, 6, 8, 10, 12]\n"
     ]
    }
   ],
   "source": [
    "# A new list is returned which contains all the lambda-modified items returned by that function for each item.\n",
    "numbers = [1,2,3,4,5,6]\n",
    "doubles = list(map(lambda x:x*2,numbers))\n",
    "print(doubles)"
   ]
  },
  {
   "cell_type": "code",
   "execution_count": 9,
   "id": "b2cf6fb7",
   "metadata": {},
   "outputs": [
    {
     "name": "stdout",
     "output_type": "stream",
     "text": [
      "[3, 4, 5, 6, 7, 8]\n"
     ]
    }
   ],
   "source": [
    "numbers = [1,2,3,4,5,6]\n",
    "increament = list(map(lambda x:x+2,numbers))\n",
    "print(increament)"
   ]
  },
  {
   "cell_type": "code",
   "execution_count": 10,
   "id": "85d14430",
   "metadata": {},
   "outputs": [
    {
     "name": "stdout",
     "output_type": "stream",
     "text": [
      "[1, 4, 9, 16, 25, 36]\n"
     ]
    }
   ],
   "source": [
    "numbers = [1,2,3,4,5,6]\n",
    "sqr = list(map(lambda x:x*x,numbers))\n",
    "print(sqr)"
   ]
  },
  {
   "cell_type": "code",
   "execution_count": 11,
   "id": "57a9eb8e",
   "metadata": {},
   "outputs": [
    {
     "name": "stdout",
     "output_type": "stream",
     "text": [
      "['DOG', 'CAT', 'PARROT', 'RABBIT']\n"
     ]
    }
   ],
   "source": [
    "animals = ['dog','cat','parrot','rabbit']\n",
    "uppered_animals=list(map(lambda animal:animal.upper(),animals))\n",
    "print(uppered_animals)"
   ]
  },
  {
   "cell_type": "code",
   "execution_count": 12,
   "id": "e99396ed",
   "metadata": {},
   "outputs": [
    {
     "name": "stdout",
     "output_type": "stream",
     "text": [
      "['Dog', 'Cat', 'Parrot', 'Rabbit']\n"
     ]
    }
   ],
   "source": [
    "animals = ['dog','cat','parrot','rabbit']\n",
    "proper_animals=list(map(lambda animal:animal.title(),animals))\n",
    "print(proper_animals)"
   ]
  },
  {
   "cell_type": "markdown",
   "id": "e5cd7f48",
   "metadata": {},
   "source": [
    "# PYTHON EXCEPTION HANDLING"
   ]
  },
  {
   "cell_type": "code",
   "execution_count": 13,
   "id": "10c303fb",
   "metadata": {},
   "outputs": [],
   "source": [
    "# Two types of error - 1. Syntax error  2.exceptions\n",
    "# 1. exception error - it is an unexpected event, which occurs during the execution of the program. also known as run time error.\n",
    "# We can handle these errors which can prevent program from interrupting.\n",
    "# 2. Syntax error - It is also known as parsing errors, occurs when the python parser encounters an error in the syntax of the code.\n",
    "# It prevents the programs from running and must be fixed before the code can be executed."
   ]
  },
  {
   "cell_type": "code",
   "execution_count": 14,
   "id": "e1aae94f",
   "metadata": {},
   "outputs": [],
   "source": [
    "# Exceptions: Occur during the execution of the program.\n",
    "# these errors disrupt the normal flow of the program and can be handled using exception handling mechanisms like 'try','except'."
   ]
  },
  {
   "cell_type": "code",
   "execution_count": 15,
   "id": "893e2fd0",
   "metadata": {},
   "outputs": [],
   "source": [
    "# TRY - Run this code\n",
    "# EXCEPT - Execute this code when there is an exception\n",
    "# ELSE - No exceptions? run this code.\n",
    "# FINALLY - Run this code"
   ]
  },
  {
   "cell_type": "code",
   "execution_count": 16,
   "id": "8656eaf6",
   "metadata": {},
   "outputs": [
    {
     "name": "stdout",
     "output_type": "stream",
     "text": [
      "Error: Denominator cannot be 0.\n"
     ]
    }
   ],
   "source": [
    "try: \n",
    "    numerator = 10\n",
    "    denominator = 0\n",
    "    result = numerator/denominator\n",
    "    print(result)\n",
    "except:\n",
    "    print(\"Error: Denominator cannot be 0.\")"
   ]
  },
  {
   "cell_type": "code",
   "execution_count": 17,
   "id": "726b7e60",
   "metadata": {},
   "outputs": [
    {
     "ename": "SyntaxError",
     "evalue": "incomplete input (1896221894.py, line 5)",
     "output_type": "error",
     "traceback": [
      "\u001b[1;36m  Cell \u001b[1;32mIn[17], line 5\u001b[1;36m\u001b[0m\n\u001b[1;33m    print(result)\u001b[0m\n\u001b[1;37m                 ^\u001b[0m\n\u001b[1;31mSyntaxError\u001b[0m\u001b[1;31m:\u001b[0m incomplete input\n"
     ]
    }
   ],
   "source": [
    "try: \n",
    "    numerator = 10\n",
    "    denominator = 0\n",
    "    result = numerator/denominator\n",
    "    print(result)"
   ]
  },
  {
   "cell_type": "code",
   "execution_count": 2,
   "id": "00f61dfb",
   "metadata": {},
   "outputs": [
    {
     "name": "stdout",
     "output_type": "stream",
     "text": [
      "Index Out of Bound\n"
     ]
    }
   ],
   "source": [
    "try:\n",
    "    even_no = [2,4,6,8]             # When the indexerror exception occurs in the try block, the zerodivision error exception is skipped\n",
    "    print(even_no[5])              \n",
    "except ZeroDivisionError:\n",
    "    print(\"Denominator cannot be 0.\")\n",
    "except IndexError:\n",
    "    print(\"Index Out of Bound\")"
   ]
  },
  {
   "cell_type": "code",
   "execution_count": 4,
   "id": "ac5393cb",
   "metadata": {},
   "outputs": [
    {
     "name": "stdout",
     "output_type": "stream",
     "text": [
      "enter a number:2\n",
      "0.5\n"
     ]
    }
   ],
   "source": [
    "# print reciprocal of even no.\n",
    "try:\n",
    "    num = int(input(\"enter a number:\"))\n",
    "    assert num % 2 == 0\n",
    "except: \n",
    "    print(\"not an even no!\")\n",
    "else:\n",
    "    reciprocal = 1/num\n",
    "    print(reciprocal)"
   ]
  },
  {
   "cell_type": "code",
   "execution_count": 5,
   "id": "8d91eb8f",
   "metadata": {},
   "outputs": [
    {
     "name": "stdout",
     "output_type": "stream",
     "text": [
      "enter a number:5\n",
      "not an even no!\n"
     ]
    }
   ],
   "source": [
    "# print reciprocal of even no.\n",
    "try:\n",
    "    num = int(input(\"enter a number:\"))\n",
    "    assert num % 2 == 0\n",
    "except: \n",
    "    print(\"not an even no!\")\n",
    "else:\n",
    "    reciprocal = 1/num\n",
    "    print(reciprocal)"
   ]
  },
  {
   "cell_type": "code",
   "execution_count": 6,
   "id": "91220eb1",
   "metadata": {},
   "outputs": [
    {
     "name": "stdout",
     "output_type": "stream",
     "text": [
      "Error: Denominator cannot be 0.\n",
      "This is finally block.\n"
     ]
    }
   ],
   "source": [
    "# Finally handling is used to execute the code even if there is exception or not\n",
    "# the finally block is optional. And for each try block,there can be only one finally block.\n",
    "try: \n",
    "    numerator = 10\n",
    "    denominator = 0\n",
    "    result = numerator/denominator\n",
    "    print(result)\n",
    "except:\n",
    "    print(\"Error: Denominator cannot be 0.\")\n",
    "finally:\n",
    "    print(\"This is finally block.\")\n"
   ]
  },
  {
   "cell_type": "markdown",
   "id": "99c0c698",
   "metadata": {},
   "source": [
    "# FILE HANDLING IN PYTHON"
   ]
  },
  {
   "cell_type": "code",
   "execution_count": 1,
   "id": "73a6b78c",
   "metadata": {},
   "outputs": [],
   "source": [
    "# Python has several funtions for reading, creating, and appending the file.\n",
    "# \"r\" = Read - opens the file , error if file doesn't exist\n",
    "# \"a\" = Append - opens file for appending, creates file if it doesn't exist\n",
    "# \"w\" = Write - \n"
   ]
  },
  {
   "cell_type": "code",
   "execution_count": 3,
   "id": "a40dd448",
   "metadata": {},
   "outputs": [],
   "source": [
    "# If the file is located in a specific directory\n",
    "file1 = r\"c:\\Users\\Soumya\\Desktop\\example.txt\"\n",
    "with open(file1,\"r\") as file:\n",
    "    contents = file.read()\n",
    "    print(\"File contents:\")\n",
    "          print(contents)"
   ]
  },
  {
   "cell_type": "code",
   "execution_count": 4,
   "id": "8f74c2d4",
   "metadata": {},
   "outputs": [],
   "source": [
    "import os\n",
    "print(os.getcwd())"
   ]
  },
  {
   "cell_type": "code",
   "execution_count": null,
   "id": "58c42dae",
   "metadata": {},
   "outputs": [],
   "source": []
  }
 ],
 "metadata": {
  "kernelspec": {
   "display_name": "Python 3 (ipykernel)",
   "language": "python",
   "name": "python3"
  },
  "language_info": {
   "codemirror_mode": {
    "name": "ipython",
    "version": 3
   },
   "file_extension": ".py",
   "mimetype": "text/x-python",
   "name": "python",
   "nbconvert_exporter": "python",
   "pygments_lexer": "ipython3",
   "version": "3.11.3"
  }
 },
 "nbformat": 4,
 "nbformat_minor": 5
}
