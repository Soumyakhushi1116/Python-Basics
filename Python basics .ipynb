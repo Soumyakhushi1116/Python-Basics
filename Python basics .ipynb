{
 "cells": [
  {
   "cell_type": "markdown",
   "id": "e1f1e805",
   "metadata": {},
   "source": [
    "# Name : Soumya Singh\n",
    "# Roll No : 119"
   ]
  },
  {
   "cell_type": "code",
   "execution_count": 3,
   "id": "81470919",
   "metadata": {},
   "outputs": [
    {
     "name": "stdout",
     "output_type": "stream",
     "text": [
      "Enter First No :4\n",
      "Enter Second No :8\n",
      "f(b) is greater number\n"
     ]
    }
   ],
   "source": [
    "# Find the greatest number\n",
    "a = int(input(\"Enter First No :\"))\n",
    "b = int(input(\"Enter Second No :\"))\n",
    "if a>b:\n",
    "    print(f\"(a) is greater number\")\n",
    "else:\n",
    "        print(\"f(b) is greater number\")"
   ]
  },
  {
   "cell_type": "code",
   "execution_count": 5,
   "id": "4c7526cf",
   "metadata": {},
   "outputs": [
    {
     "name": "stdout",
     "output_type": "stream",
     "text": [
      "The average is 31\n"
     ]
    }
   ],
   "source": [
    "# Find Avg of given list of numbers\n",
    "numbers = [3,55,60,6]\n",
    "average = sum(numbers)/len(numbers)\n",
    "print(\"The average is\",round(average))"
   ]
  },
  {
   "cell_type": "code",
   "execution_count": 7,
   "id": "33d133ae",
   "metadata": {},
   "outputs": [
    {
     "name": "stdout",
     "output_type": "stream",
     "text": [
      "Simple Calculator\n",
      "Enter 1st no:3\n",
      "Enter 2nd no:6\n",
      "Enter Operation*\n",
      "The multiplication of two no is : 18\n"
     ]
    }
   ],
   "source": [
    "# Make simple calculator\n",
    "print(\"Simple Calculator\")\n",
    "x = int(input(\"Enter 1st no:\"))\n",
    "y = int(input(\"Enter 2nd no:\"))\n",
    "z = input(\"Enter Operation\")\n",
    "if z == \"+\":\n",
    "    print(\"The addtion of two no is :\",x+y)\n",
    "elif z ==\"-\":\n",
    "    print(\"The substraction of two no is :\",x-y)\n",
    "elif z == \"*\":\n",
    "    print(\"The multiplication of two no is :\",x*y)\n",
    "elif z == \"/\":\n",
    "    if y!=0:\n",
    "        print(\"The division of two no is\",x/y)\n",
    "    else:\n",
    "        print(\"Can't divide by zero\")"
   ]
  },
  {
   "cell_type": "code",
   "execution_count": null,
   "id": "e6791087",
   "metadata": {},
   "outputs": [],
   "source": []
  }
 ],
 "metadata": {
  "kernelspec": {
   "display_name": "Python 3 (ipykernel)",
   "language": "python",
   "name": "python3"
  },
  "language_info": {
   "codemirror_mode": {
    "name": "ipython",
    "version": 3
   },
   "file_extension": ".py",
   "mimetype": "text/x-python",
   "name": "python",
   "nbconvert_exporter": "python",
   "pygments_lexer": "ipython3",
   "version": "3.11.3"
  }
 },
 "nbformat": 4,
 "nbformat_minor": 5
}
